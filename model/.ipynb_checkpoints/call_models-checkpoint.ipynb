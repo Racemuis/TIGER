{
 "cells": [
  {
   "cell_type": "code",
   "execution_count": 1,
   "id": "1418c617-5ba0-4fea-bb85-6e40c9a7af2e",
   "metadata": {},
   "outputs": [],
   "source": [
    "from Unet import build_unet\n",
    "from tensorflow import keras"
   ]
  },
  {
   "cell_type": "code",
   "execution_count": null,
   "id": "c183941a-8a23-4461-8007-d14b34a1aa56",
   "metadata": {},
   "outputs": [],
   "source": [
    "def compling(model, learningrate):\n",
    "    model.compile(\n",
    "    optimizer=keras.optimizers.Adam(learning_rate=learningrate),  # Optimizer\n",
    "    # Loss function to minimize\n",
    "    loss=keras.losses.CategoricalCrossentropy(),\n",
    "    # List of metrics to monitor\n",
    "    metrics=['accuracy'])\n",
    "    return model"
   ]
  },
  {
   "cell_type": "code",
   "execution_count": null,
   "id": "c31aae89-4c1e-4c23-ae6a-71d1dcd443b4",
   "metadata": {},
   "outputs": [],
   "source": [
    "learning_rate = 1e-4     #Set a learning rate\n",
    "patch_size = (88,88)\n",
    "batch_size = 124\n",
    "steps_per_epoch = 100\n",
    "epochs = 5\n",
    "\n",
    "\n",
    "unet= build_unet(initial_filters=16, n_classes=2, batchnorm=True, dropout=True, printmodel=True)\n",
    "\n",
    "\n",
    "unet =compling(unet_2, learningrate)\n",
    "\n",
    "\n",
    "\n"
   ]
  }
 ],
 "metadata": {
  "kernelspec": {
   "display_name": "Python 3 (ipykernel)",
   "language": "python",
   "name": "python3"
  },
  "language_info": {
   "codemirror_mode": {
    "name": "ipython",
    "version": 3
   },
   "file_extension": ".py",
   "mimetype": "text/x-python",
   "name": "python",
   "nbconvert_exporter": "python",
   "pygments_lexer": "ipython3",
   "version": "3.9.11"
  }
 },
 "nbformat": 4,
 "nbformat_minor": 5
}
